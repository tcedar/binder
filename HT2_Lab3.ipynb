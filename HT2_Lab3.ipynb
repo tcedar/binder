{
 "cells": [
  {
   "cell_type": "markdown",
   "metadata": {},
   "source": [
    "# Lab 3, Forced Transient Convection"
   ]
  },
  {
   "cell_type": "markdown",
   "metadata": {},
   "source": [
    "For MECH 437, Heat Transfer 2"
   ]
  },
  {
   "cell_type": "code",
   "execution_count": 8,
   "metadata": {},
   "outputs": [
    {
     "name": "stdout",
     "output_type": "stream",
     "text": [
      "2619.3696205103724\n",
      "Pascals\n",
      "\n"
     ]
    }
   ],
   "source": [
    "from math import exp\n",
    "\n",
    "#Saturation vapor pressure of water\n",
    "T = 295 # Kelvin\n",
    "es = (1.7526*10**11)*exp(-5315.56/T)\n",
    "print(es)\n",
    "print('Pascals\\n')"
   ]
  },
  {
   "cell_type": "code",
   "execution_count": 9,
   "metadata": {},
   "outputs": [
    {
     "name": "stdout",
     "output_type": "stream",
     "text": [
      "Air density, kg/m^3:\n",
      "1.0590884093772128\n",
      "\n",
      "\n"
     ]
    }
   ],
   "source": [
    "P = 90*10**3 #Pascals, atmospheric pressure in the lab\n",
    "Rh = 34.4    #percent relative humidity (34.4 percent, not 344 percent)\n",
    "rho = (0.0034847/T)*(P-0.003796*Rh*es)\n",
    "print('Air density, kg/m^3:')\n",
    "print(rho)\n",
    "print('\\n')"
   ]
  },
  {
   "cell_type": "code",
   "execution_count": null,
   "metadata": {},
   "outputs": [],
   "source": []
  }
 ],
 "metadata": {
  "kernelspec": {
   "display_name": "Python 3",
   "language": "python",
   "name": "python3"
  },
  "language_info": {
   "codemirror_mode": {
    "name": "ipython",
    "version": 3
   },
   "file_extension": ".py",
   "mimetype": "text/x-python",
   "name": "python",
   "nbconvert_exporter": "python",
   "pygments_lexer": "ipython3",
   "version": "3.7.3"
  }
 },
 "nbformat": 4,
 "nbformat_minor": 4
}
