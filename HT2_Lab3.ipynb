{
 "cells": [
  {
   "cell_type": "markdown",
   "metadata": {},
   "source": [
    "# Lab 3, Forced Transient Convection"
   ]
  },
  {
   "cell_type": "markdown",
   "metadata": {},
   "source": [
    "For MECH 437, Heat Transfer 2"
   ]
  },
  {
   "cell_type": "code",
   "execution_count": 58,
   "metadata": {},
   "outputs": [
    {
     "name": "stdout",
     "output_type": "stream",
     "text": [
      "2619.3696205103724\n",
      "Pascals\n",
      "\n"
     ]
    }
   ],
   "source": [
    "from math import exp\n",
    "\n",
    "#Saturation vapor pressure of water\n",
    "T = 295 # Kelvin\n",
    "es = (1.7526*10**11)*exp(-5315.56/T)\n",
    "print(es)\n",
    "print('Pascals\\n')"
   ]
  },
  {
   "cell_type": "code",
   "execution_count": 59,
   "metadata": {},
   "outputs": [
    {
     "name": "stdout",
     "output_type": "stream",
     "text": [
      "Air density, kg/m^3:\n",
      "1.0590884093772128\n",
      "\n",
      "\n"
     ]
    }
   ],
   "source": [
    "P = 90*10**3 #Pascals, atmospheric pressure in the lab\n",
    "Rh = 34.4    #percent relative humidity (34.4 percent, not 344 percent)\n",
    "rho = (0.0034847/T)*(P-0.003796*Rh*es)\n",
    "print('Air density, kg/m^3:')\n",
    "print(rho)\n",
    "print('\\n')"
   ]
  },
  {
   "cell_type": "code",
   "execution_count": 60,
   "metadata": {},
   "outputs": [
    {
     "name": "stdout",
     "output_type": "stream",
     "text": [
      "Velocity, m/s:\n",
      "13.648530067947899\n",
      "\n",
      "\n"
     ]
    }
   ],
   "source": [
    "Vmeas = 11.8 #m/s, measured with a hot wire anemometer\n",
    "V = Vmeas*(1.2250/rho) #calibrating the hot wire for local air density to\n",
    "                       # determine the actual velocity\n",
    "print('Velocity, m/s:')\n",
    "print(V)\n",
    "print('\\n')"
   ]
  },
  {
   "cell_type": "code",
   "execution_count": 61,
   "metadata": {},
   "outputs": [
    {
     "name": "stdout",
     "output_type": "stream",
     "text": [
      "Reynolds number:\n",
      "29767.2981878089\n",
      "\n",
      "\n"
     ]
    }
   ],
   "source": [
    "D = 0.0375   # meters, sphere diameter\n",
    "mue = 182.1*10**-7 # Pascal-seconds, dynamic viscosity\n",
    "Re = rho*D*V/mue   # Reynolds number - dimensionless\n",
    "print('Reynold''s number:')\n",
    "print(Re)\n",
    "print('\\n')"
   ]
  },
  {
   "cell_type": "code",
   "execution_count": 62,
   "metadata": {},
   "outputs": [
    {
     "name": "stdout",
     "output_type": "stream",
     "text": [
      "Nu_avg:\n",
      "109.43273834893051\n",
      "\n",
      "\n"
     ]
    }
   ],
   "source": [
    "Pr = 0.7083  #Prandtl number\n",
    "mue_s = 202.5*10**-7\n",
    "\n",
    "Nu_avg = 2 + (0.4*Re**0.5 + 0.06*Re**(2/3)) * Pr**0.4 * (mue/mue_s)**(1/4)\n",
    "print('Nu_avg:')\n",
    "print(Nu_avg)\n",
    "print('\\n')"
   ]
  },
  {
   "cell_type": "code",
   "execution_count": 63,
   "metadata": {},
   "outputs": [
    {
     "name": "stdout",
     "output_type": "stream",
     "text": [
      "75.58154461966134\n"
     ]
    }
   ],
   "source": [
    "kg = 25.9*10**-3\n",
    "h_avg = Nu_avg*kg/D\n",
    "print(h_avg)"
   ]
  },
  {
   "cell_type": "code",
   "execution_count": 68,
   "metadata": {},
   "outputs": [
    {
     "name": "stdout",
     "output_type": "stream",
     "text": [
      "0.004069650259512241\n"
     ]
    }
   ],
   "source": [
    "kb = 116.075\n",
    "Lc = D/6\n",
    "Bi = h_avg*Lc/kb\n",
    "print(Bi)"
   ]
  },
  {
   "cell_type": "code",
   "execution_count": 65,
   "metadata": {},
   "outputs": [
    {
     "name": "stdout",
     "output_type": "stream",
     "text": [
      "270.41892025825575\n"
     ]
    }
   ],
   "source": [
    "rho_s = 8530\n",
    "Cp = 383.375\n",
    "\n",
    "tau = rho_s*Cp*Lc/h_avg\n",
    "print(tau)"
   ]
  },
  {
   "cell_type": "code",
   "execution_count": null,
   "metadata": {},
   "outputs": [],
   "source": []
  },
  {
   "cell_type": "markdown",
   "metadata": {},
   "source": [
    "Tau should be close to 200, according to some preliminary excel calcs....\n",
    "That means my h is wrong, probably. Which would mean that my Nusselt number is wrong."
   ]
  },
  {
   "cell_type": "code",
   "execution_count": 66,
   "metadata": {},
   "outputs": [
    {
     "data": {
      "text/plain": [
       "204.386796875"
      ]
     },
     "execution_count": 66,
     "metadata": {},
     "output_type": "execute_result"
    }
   ],
   "source": [
    "rho_s*Cp*Lc/(100)"
   ]
  },
  {
   "cell_type": "code",
   "execution_count": 67,
   "metadata": {},
   "outputs": [
    {
     "data": {
      "text/plain": [
       "1.821e-05"
      ]
     },
     "execution_count": 67,
     "metadata": {},
     "output_type": "execute_result"
    }
   ],
   "source": [
    " mue"
   ]
  }
 ],
 "metadata": {
  "kernelspec": {
   "display_name": "Python 3",
   "language": "python",
   "name": "python3"
  },
  "language_info": {
   "codemirror_mode": {
    "name": "ipython",
    "version": 3
   },
   "file_extension": ".py",
   "mimetype": "text/x-python",
   "name": "python",
   "nbconvert_exporter": "python",
   "pygments_lexer": "ipython3",
   "version": "3.7.3"
  }
 },
 "nbformat": 4,
 "nbformat_minor": 4
}
